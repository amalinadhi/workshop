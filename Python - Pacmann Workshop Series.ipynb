{
 "cells": [
  {
   "cell_type": "markdown",
   "metadata": {},
   "source": [
    "# 1. Mencari rata-rata"
   ]
  },
  {
   "cell_type": "code",
   "execution_count": 1,
   "metadata": {},
   "outputs": [],
   "source": [
    "data = [1, 2, 3, 4, 5, 6, 7, 8, 9, 10]"
   ]
  },
  {
   "cell_type": "code",
   "execution_count": 2,
   "metadata": {},
   "outputs": [
    {
     "data": {
      "text/plain": [
       "6"
      ]
     },
     "execution_count": 2,
     "metadata": {},
     "output_type": "execute_result"
    }
   ],
   "source": [
    "data[5]"
   ]
  },
  {
   "attachments": {},
   "cell_type": "markdown",
   "metadata": {},
   "source": [
    "**Cara 1**\n",
    "\n",
    "Langkah-langkah:\n",
    "1. Hitung jumlah data, simpan dalam variabel `jumlah_data`<br>\n",
    "`Jumlah_data = 1 + 2 + 3 + … + 10 = 55`\n",
    "<br><br>\n",
    "2. Hitung rata-rata\n",
    "<br>Rata-rata = jumlah_data/10 = 55/10 = 5.5"
   ]
  },
  {
   "cell_type": "code",
   "execution_count": 3,
   "metadata": {},
   "outputs": [
    {
     "name": "stdout",
     "output_type": "stream",
     "text": [
      "5.5\n"
     ]
    }
   ],
   "source": [
    "# step 1\n",
    "jumlah_data = 1 + 2 + 3 + 4 + 5 + 6 + 7 + 8 + 9 + 10\n",
    "\n",
    "# step 2\n",
    "rata_rata = jumlah_data/10\n",
    "print(rata_rata)"
   ]
  },
  {
   "cell_type": "markdown",
   "metadata": {},
   "source": [
    "**Cara 2**\n",
    "\n",
    "Kita simpelkan penjumlahan berurutan itu."
   ]
  },
  {
   "cell_type": "code",
   "execution_count": 4,
   "metadata": {},
   "outputs": [
    {
     "name": "stdout",
     "output_type": "stream",
     "text": [
      "5.5\n"
     ]
    }
   ],
   "source": [
    "# step 1\n",
    "jumlah_data = 0\n",
    "for item in data:\n",
    "    jumlah_data = jumlah_data + item\n",
    "\n",
    "# step 2\n",
    "rata_rata = jumlah_data/10\n",
    "print(rata_rata)"
   ]
  },
  {
   "cell_type": "markdown",
   "metadata": {},
   "source": [
    "**Cara 3**\n",
    "\n",
    "Pakai library yang memudahkan perhitungan (NumPy). Menggunakan `np.mean()`"
   ]
  },
  {
   "cell_type": "code",
   "execution_count": 5,
   "metadata": {},
   "outputs": [],
   "source": [
    "# import library\n",
    "import numpy as np"
   ]
  },
  {
   "cell_type": "code",
   "execution_count": 6,
   "metadata": {},
   "outputs": [
    {
     "name": "stdout",
     "output_type": "stream",
     "text": [
      "5.5\n"
     ]
    }
   ],
   "source": [
    "# step 1\n",
    "# di skip\n",
    "\n",
    "# step 2\n",
    "rata_rata = np.mean(data)\n",
    "print(rata_rata)"
   ]
  },
  {
   "cell_type": "markdown",
   "metadata": {},
   "source": [
    "# 2. Apa Angga lulus?"
   ]
  },
  {
   "attachments": {},
   "cell_type": "markdown",
   "metadata": {},
   "source": [
    "**Step 1:**<br> \n",
    "Bandingkan nilai Angga dengan nilai rata-rata. <br>\n",
    "Patokan (threshold): nilai Angga > nilai rata-rata<br>\n",
    "<br>\n",
    "**Step 2:**<br>\n",
    "Kalo patokan benar -> Angga lulus<br>\n",
    "Kalo patokan salah -> Angga tidak lulus<br>"
   ]
  },
  {
   "cell_type": "code",
   "execution_count": 7,
   "metadata": {},
   "outputs": [
    {
     "name": "stdout",
     "output_type": "stream",
     "text": [
      "Angga lulus\n"
     ]
    }
   ],
   "source": [
    "# Input\n",
    "rata_rata = 5.5\n",
    "nilai_angga = 6\n",
    "\n",
    "\n",
    "# Conditional\n",
    "if (nilai_angga > rata_rata):    # Step 1: cek patokan\n",
    "    print('Angga lulus')    # Step 2\n",
    "else:\n",
    "    print('Angga tidak lulus')    # Step 2"
   ]
  },
  {
   "cell_type": "markdown",
   "metadata": {},
   "source": [
    "# HO1 - Temperature 2 Kota"
   ]
  },
  {
   "cell_type": "markdown",
   "metadata": {},
   "source": [
    "Diberikan temperatur 2 kota"
   ]
  },
  {
   "cell_type": "code",
   "execution_count": 8,
   "metadata": {},
   "outputs": [],
   "source": [
    "# Temperature kota A dan B\n",
    "temp_A = [36, 37, 36, 34, 39, 33, 30, 30, 32, 31, 31, 32, 32, 33, 35]\n",
    "temp_B = [41, 35, 28, 29, 25, 36, 36, 32, 38, 40, 40, 34, 31, 28, 30]\n",
    "hari = [i+1 for i in range(15)]"
   ]
  },
  {
   "cell_type": "code",
   "execution_count": 9,
   "metadata": {},
   "outputs": [],
   "source": [
    "# import library visualisasi\n",
    "import matplotlib.pyplot as plt"
   ]
  },
  {
   "cell_type": "code",
   "execution_count": 10,
   "metadata": {},
   "outputs": [
    {
     "data": {
      "image/png": "[encoded data removed]",
      "text/plain": [
       "<Figure size 432x288 with 1 Axes>"
      ]
     },
     "metadata": {
      "needs_background": "light"
     },
     "output_type": "display_data"
    }
   ],
   "source": [
    "# Plot perbandingan temperatur di 2 kota\n",
    "plt.scatter(hari, temp_A, c='r')\n",
    "plt.scatter(hari, temp_B, c='b')\n",
    "plt.plot(hari, temp_A, '--r', label='Temperatur A')\n",
    "plt.plot(hari, temp_B, 'b', label='Temperatur B')\n",
    "plt.xlabel('Hari')\n",
    "plt.ylabel('Temperatur')\n",
    "plt.xticks(hari)\n",
    "plt.legend()\n",
    "plt.grid()\n",
    "plt.show()"
   ]
  },
  {
   "cell_type": "markdown",
   "metadata": {},
   "source": [
    "**Question**\n",
    "\n",
    "Pada hari ke berapa dikatakan memiliki temperature yang tidak normal?"
   ]
  },
  {
   "cell_type": "markdown",
   "metadata": {},
   "source": [
    "**Standard Deviation**\n",
    "\n",
    "- Kita dapat mengetahui seberapa dekat data-data kita dengan rataan data. \n",
    "- *Kasarnya*, untuk menentukan temperatur diluar \"normal\", bisa kita lihat dari temperatur yang ada diluar standard deviasi dari data ini."
   ]
  },
  {
   "cell_type": "markdown",
   "metadata": {},
   "source": [
    "Untuk mencari standard deviation ($\\sigma$), kita dapat menggunakan formula di bawah ini, dengan $\\mu$ adalah rata-rata"
   ]
  },
  {
   "cell_type": "markdown",
   "metadata": {},
   "source": [
    "$\\sigma = \\sqrt{\\frac{1}{N}\\sum_{i-1}^{N}(x_{i} - \\mu)^{2}}$"
   ]
  },
  {
   "cell_type": "markdown",
   "metadata": {},
   "source": [
    "$\\mu = \\frac{1}{N}\\sum_{i=1}^{N} x_{i}$"
   ]
  },
  {
   "cell_type": "markdown",
   "metadata": {},
   "source": [
    "**Mencari mean**"
   ]
  },
  {
   "cell_type": "code",
   "execution_count": 11,
   "metadata": {},
   "outputs": [
    {
     "name": "stdout",
     "output_type": "stream",
     "text": [
      "Mean A = 33.4\n"
     ]
    }
   ],
   "source": [
    "# Kota A\n",
    "total_temp_A = 0\n",
    "for temp in temp_A:\n",
    "    total_temp_A = total_temp_A + temp\n",
    "\n",
    "mean_A = total_temp_A/15\n",
    "print(\"Mean A =\", mean_A)"
   ]
  },
  {
   "cell_type": "code",
   "execution_count": 12,
   "metadata": {},
   "outputs": [
    {
     "name": "stdout",
     "output_type": "stream",
     "text": [
      "Mean B = 33.53333333333333\n"
     ]
    }
   ],
   "source": [
    "# Kota B\n",
    "total_temp_B = 0\n",
    "for temp in temp_B:\n",
    "    total_temp_B = total_temp_B + temp\n",
    "    \n",
    "mean_B = total_temp_B/15\n",
    "print(\"Mean B =\", mean_B)"
   ]
  },
  {
   "cell_type": "markdown",
   "metadata": {},
   "source": [
    "Mean hampir mirip"
   ]
  },
  {
   "cell_type": "markdown",
   "metadata": {},
   "source": [
    "**Mencari Standard Deviation**"
   ]
  },
  {
   "cell_type": "code",
   "execution_count": 13,
   "metadata": {},
   "outputs": [
    {
     "name": "stdout",
     "output_type": "stream",
     "text": [
      "Standard Deviation A = 2.6025628394590843\n"
     ]
    }
   ],
   "source": [
    "# Kota A\n",
    "jumlah_A = 0\n",
    "for temp in temp_A:\n",
    "    jumlah_A = jumlah_A + (temp - mean_A)**2\n",
    "\n",
    "std_A = ((1/15)*jumlah_A)**0.5\n",
    "print(\"Standard Deviation A =\", std_A)"
   ]
  },
  {
   "cell_type": "code",
   "execution_count": 14,
   "metadata": {},
   "outputs": [
    {
     "name": "stdout",
     "output_type": "stream",
     "text": [
      "Standard Deviation B = 4.828618389928485\n"
     ]
    }
   ],
   "source": [
    "# Kota B\n",
    "jumlah_B = 0\n",
    "for temp in temp_B:\n",
    "    jumlah_B = jumlah_B + (temp - mean_B)**2\n",
    "\n",
    "std_B = ((1/15)*jumlah_B)**0.5\n",
    "print(\"Standard Deviation B =\", std_B)"
   ]
  },
  {
   "cell_type": "markdown",
   "metadata": {},
   "source": [
    "STD A < STD B : temperatur B lebih besar variasinya."
   ]
  },
  {
   "cell_type": "markdown",
   "metadata": {},
   "source": [
    "**Plot**"
   ]
  },
  {
   "cell_type": "code",
   "execution_count": 15,
   "metadata": {},
   "outputs": [
    {
     "data": {
      "image/png": "[encoded data removed]",
      "text/plain": [
       "<Figure size 432x288 with 1 Axes>"
      ]
     },
     "metadata": {
      "needs_background": "light"
     },
     "output_type": "display_data"
    }
   ],
   "source": [
    "# Plot temperatur kota A\n",
    "plt.scatter(hari, temp_A, c='r')\n",
    "plt.plot(hari, temp_A, 'r', label='Temperatur A')\n",
    "plt.plot(hari, mean_A*np.ones(15), '--b', label='Mean')\n",
    "plt.plot(hari, (mean_A + std_A)*np.ones(15), 'g')\n",
    "plt.plot(hari, (mean_A - std_A)*np.ones(15), 'g')\n",
    "\n",
    "plt.xlabel('Hari')\n",
    "plt.ylabel('Temperatur')\n",
    "plt.xticks(hari)\n",
    "plt.legend()\n",
    "plt.grid()\n",
    "plt.show()"
   ]
  },
  {
   "cell_type": "markdown",
   "metadata": {},
   "source": [
    "Hari tidak normal: 2, 5, 7, dan 8"
   ]
  },
  {
   "cell_type": "code",
   "execution_count": 16,
   "metadata": {},
   "outputs": [
    {
     "data": {
      "image/png": "[encoded data removed]",
      "text/plain": [
       "<Figure size 432x288 with 1 Axes>"
      ]
     },
     "metadata": {
      "needs_background": "light"
     },
     "output_type": "display_data"
    }
   ],
   "source": [
    "# Plot temperatur kota B\n",
    "plt.scatter(hari, temp_B, c='r')\n",
    "plt.plot(hari, temp_B, 'r', label='Temperatur B')\n",
    "plt.plot(hari, mean_B*np.ones(15), '--b', label='Mean')\n",
    "plt.plot(hari, (mean_B + std_B)*np.ones(15), 'g')\n",
    "plt.plot(hari, (mean_B - std_B)*np.ones(15), 'g')\n",
    "plt.xlabel('Hari')\n",
    "plt.ylabel('Temperatur')\n",
    "plt.xticks(hari)\n",
    "plt.legend()\n",
    "plt.grid()\n",
    "plt.show()"
   ]
  },
  {
   "cell_type": "markdown",
   "metadata": {},
   "source": [
    "Hari tidak normal: 1, 3, 5, 10, 11, dan 14"
   ]
  },
  {
   "cell_type": "markdown",
   "metadata": {},
   "source": [
    "---\n",
    "**CARA CEPAT**\n",
    "\n",
    "Menggunakan library NumPy dengan `np.mean()` dan `np.std()`"
   ]
  },
  {
   "cell_type": "code",
   "execution_count": 17,
   "metadata": {},
   "outputs": [
    {
     "name": "stdout",
     "output_type": "stream",
     "text": [
      "Mean A = 33.4\n",
      "Standard Deviation A = 2.6025628394590843\n"
     ]
    }
   ],
   "source": [
    "# Kota A\n",
    "mean_A = np.mean(temp_A)\n",
    "std_A = np.std(temp_A)\n",
    "print(\"Mean A =\", mean_A)\n",
    "print(\"Standard Deviation A =\", std_A)"
   ]
  },
  {
   "cell_type": "code",
   "execution_count": 18,
   "metadata": {},
   "outputs": [
    {
     "name": "stdout",
     "output_type": "stream",
     "text": [
      "Mean B = 33.53333333333333\n",
      "Standard Deviation B = 4.828618389928485\n"
     ]
    }
   ],
   "source": [
    "# Kota B\n",
    "mean_B = np.mean(temp_B)\n",
    "std_B = np.std(temp_B)\n",
    "print(\"Mean B =\", mean_B)\n",
    "print(\"Standard Deviation B =\", std_B)"
   ]
  },
  {
   "cell_type": "markdown",
   "metadata": {},
   "source": [
    "# HO2 - Harga Mobil"
   ]
  },
  {
   "cell_type": "markdown",
   "metadata": {},
   "source": [
    "Diberikan data mobil dalam file `Automobile_data.csv`"
   ]
  },
  {
   "cell_type": "code",
   "execution_count": 19,
   "metadata": {},
   "outputs": [],
   "source": [
    "# Import library baca file csv\n",
    "import pandas as pd"
   ]
  },
  {
   "cell_type": "code",
   "execution_count": 20,
   "metadata": {},
   "outputs": [
    {
     "data": {
      "text/html": [
       "<div>\n",
       "<style scoped>\n",
       "    .dataframe tbody tr th:only-of-type {\n",
       "        vertical-align: middle;\n",
       "    }\n",
       "\n",
       "    .dataframe tbody tr th {\n",
       "        vertical-align: top;\n",
       "    }\n",
       "\n",
       "    .dataframe thead th {\n",
       "        text-align: right;\n",
       "    }\n",
       "</style>\n",
       "<table border=\"1\" class=\"dataframe\">\n",
       "  <thead>\n",
       "    <tr style=\"text-align: right;\">\n",
       "      <th></th>\n",
       "      <th>symboling</th>\n",
       "      <th>normalized-losses</th>\n",
       "      <th>make</th>\n",
       "      <th>fuel-type</th>\n",
       "      <th>aspiration</th>\n",
       "      <th>num-of-doors</th>\n",
       "      <th>body-style</th>\n",
       "      <th>drive-wheels</th>\n",
       "      <th>engine-location</th>\n",
       "      <th>wheel-base</th>\n",
       "      <th>...</th>\n",
       "      <th>engine-size</th>\n",
       "      <th>fuel-system</th>\n",
       "      <th>bore</th>\n",
       "      <th>stroke</th>\n",
       "      <th>compression-ratio</th>\n",
       "      <th>horsepower</th>\n",
       "      <th>peak-rpm</th>\n",
       "      <th>city-mpg</th>\n",
       "      <th>highway-mpg</th>\n",
       "      <th>price</th>\n",
       "    </tr>\n",
       "  </thead>\n",
       "  <tbody>\n",
       "    <tr>\n",
       "      <th>0</th>\n",
       "      <td>3</td>\n",
       "      <td>?</td>\n",
       "      <td>alfa-romero</td>\n",
       "      <td>gas</td>\n",
       "      <td>std</td>\n",
       "      <td>two</td>\n",
       "      <td>convertible</td>\n",
       "      <td>rwd</td>\n",
       "      <td>front</td>\n",
       "      <td>88.6</td>\n",
       "      <td>...</td>\n",
       "      <td>130</td>\n",
       "      <td>mpfi</td>\n",
       "      <td>3.47</td>\n",
       "      <td>2.68</td>\n",
       "      <td>9.0</td>\n",
       "      <td>111</td>\n",
       "      <td>5000</td>\n",
       "      <td>21</td>\n",
       "      <td>27</td>\n",
       "      <td>13495</td>\n",
       "    </tr>\n",
       "    <tr>\n",
       "      <th>1</th>\n",
       "      <td>3</td>\n",
       "      <td>?</td>\n",
       "      <td>alfa-romero</td>\n",
       "      <td>gas</td>\n",
       "      <td>std</td>\n",
       "      <td>two</td>\n",
       "      <td>convertible</td>\n",
       "      <td>rwd</td>\n",
       "      <td>front</td>\n",
       "      <td>88.6</td>\n",
       "      <td>...</td>\n",
       "      <td>130</td>\n",
       "      <td>mpfi</td>\n",
       "      <td>3.47</td>\n",
       "      <td>2.68</td>\n",
       "      <td>9.0</td>\n",
       "      <td>111</td>\n",
       "      <td>5000</td>\n",
       "      <td>21</td>\n",
       "      <td>27</td>\n",
       "      <td>16500</td>\n",
       "    </tr>\n",
       "    <tr>\n",
       "      <th>2</th>\n",
       "      <td>1</td>\n",
       "      <td>?</td>\n",
       "      <td>alfa-romero</td>\n",
       "      <td>gas</td>\n",
       "      <td>std</td>\n",
       "      <td>two</td>\n",
       "      <td>hatchback</td>\n",
       "      <td>rwd</td>\n",
       "      <td>front</td>\n",
       "      <td>94.5</td>\n",
       "      <td>...</td>\n",
       "      <td>152</td>\n",
       "      <td>mpfi</td>\n",
       "      <td>2.68</td>\n",
       "      <td>3.47</td>\n",
       "      <td>9.0</td>\n",
       "      <td>154</td>\n",
       "      <td>5000</td>\n",
       "      <td>19</td>\n",
       "      <td>26</td>\n",
       "      <td>16500</td>\n",
       "    </tr>\n",
       "    <tr>\n",
       "      <th>3</th>\n",
       "      <td>2</td>\n",
       "      <td>164</td>\n",
       "      <td>audi</td>\n",
       "      <td>gas</td>\n",
       "      <td>std</td>\n",
       "      <td>four</td>\n",
       "      <td>sedan</td>\n",
       "      <td>fwd</td>\n",
       "      <td>front</td>\n",
       "      <td>99.8</td>\n",
       "      <td>...</td>\n",
       "      <td>109</td>\n",
       "      <td>mpfi</td>\n",
       "      <td>3.19</td>\n",
       "      <td>3.4</td>\n",
       "      <td>10.0</td>\n",
       "      <td>102</td>\n",
       "      <td>5500</td>\n",
       "      <td>24</td>\n",
       "      <td>30</td>\n",
       "      <td>13950</td>\n",
       "    </tr>\n",
       "    <tr>\n",
       "      <th>4</th>\n",
       "      <td>2</td>\n",
       "      <td>164</td>\n",
       "      <td>audi</td>\n",
       "      <td>gas</td>\n",
       "      <td>std</td>\n",
       "      <td>four</td>\n",
       "      <td>sedan</td>\n",
       "      <td>4wd</td>\n",
       "      <td>front</td>\n",
       "      <td>99.4</td>\n",
       "      <td>...</td>\n",
       "      <td>136</td>\n",
       "      <td>mpfi</td>\n",
       "      <td>3.19</td>\n",
       "      <td>3.4</td>\n",
       "      <td>8.0</td>\n",
       "      <td>115</td>\n",
       "      <td>5500</td>\n",
       "      <td>18</td>\n",
       "      <td>22</td>\n",
       "      <td>17450</td>\n",
       "    </tr>\n",
       "    <tr>\n",
       "      <th>...</th>\n",
       "      <td>...</td>\n",
       "      <td>...</td>\n",
       "      <td>...</td>\n",
       "      <td>...</td>\n",
       "      <td>...</td>\n",
       "      <td>...</td>\n",
       "      <td>...</td>\n",
       "      <td>...</td>\n",
       "      <td>...</td>\n",
       "      <td>...</td>\n",
       "      <td>...</td>\n",
       "      <td>...</td>\n",
       "      <td>...</td>\n",
       "      <td>...</td>\n",
       "      <td>...</td>\n",
       "      <td>...</td>\n",
       "      <td>...</td>\n",
       "      <td>...</td>\n",
       "      <td>...</td>\n",
       "      <td>...</td>\n",
       "      <td>...</td>\n",
       "    </tr>\n",
       "    <tr>\n",
       "      <th>196</th>\n",
       "      <td>-1</td>\n",
       "      <td>95</td>\n",
       "      <td>volvo</td>\n",
       "      <td>gas</td>\n",
       "      <td>std</td>\n",
       "      <td>four</td>\n",
       "      <td>sedan</td>\n",
       "      <td>rwd</td>\n",
       "      <td>front</td>\n",
       "      <td>109.1</td>\n",
       "      <td>...</td>\n",
       "      <td>141</td>\n",
       "      <td>mpfi</td>\n",
       "      <td>3.78</td>\n",
       "      <td>3.15</td>\n",
       "      <td>9.5</td>\n",
       "      <td>114</td>\n",
       "      <td>5400</td>\n",
       "      <td>23</td>\n",
       "      <td>28</td>\n",
       "      <td>16845</td>\n",
       "    </tr>\n",
       "    <tr>\n",
       "      <th>197</th>\n",
       "      <td>-1</td>\n",
       "      <td>95</td>\n",
       "      <td>volvo</td>\n",
       "      <td>gas</td>\n",
       "      <td>turbo</td>\n",
       "      <td>four</td>\n",
       "      <td>sedan</td>\n",
       "      <td>rwd</td>\n",
       "      <td>front</td>\n",
       "      <td>109.1</td>\n",
       "      <td>...</td>\n",
       "      <td>141</td>\n",
       "      <td>mpfi</td>\n",
       "      <td>3.78</td>\n",
       "      <td>3.15</td>\n",
       "      <td>8.7</td>\n",
       "      <td>160</td>\n",
       "      <td>5300</td>\n",
       "      <td>19</td>\n",
       "      <td>25</td>\n",
       "      <td>19045</td>\n",
       "    </tr>\n",
       "    <tr>\n",
       "      <th>198</th>\n",
       "      <td>-1</td>\n",
       "      <td>95</td>\n",
       "      <td>volvo</td>\n",
       "      <td>gas</td>\n",
       "      <td>std</td>\n",
       "      <td>four</td>\n",
       "      <td>sedan</td>\n",
       "      <td>rwd</td>\n",
       "      <td>front</td>\n",
       "      <td>109.1</td>\n",
       "      <td>...</td>\n",
       "      <td>173</td>\n",
       "      <td>mpfi</td>\n",
       "      <td>3.58</td>\n",
       "      <td>2.87</td>\n",
       "      <td>8.8</td>\n",
       "      <td>134</td>\n",
       "      <td>5500</td>\n",
       "      <td>18</td>\n",
       "      <td>23</td>\n",
       "      <td>21485</td>\n",
       "    </tr>\n",
       "    <tr>\n",
       "      <th>199</th>\n",
       "      <td>-1</td>\n",
       "      <td>95</td>\n",
       "      <td>volvo</td>\n",
       "      <td>diesel</td>\n",
       "      <td>turbo</td>\n",
       "      <td>four</td>\n",
       "      <td>sedan</td>\n",
       "      <td>rwd</td>\n",
       "      <td>front</td>\n",
       "      <td>109.1</td>\n",
       "      <td>...</td>\n",
       "      <td>145</td>\n",
       "      <td>idi</td>\n",
       "      <td>3.01</td>\n",
       "      <td>3.4</td>\n",
       "      <td>23.0</td>\n",
       "      <td>106</td>\n",
       "      <td>4800</td>\n",
       "      <td>26</td>\n",
       "      <td>27</td>\n",
       "      <td>22470</td>\n",
       "    </tr>\n",
       "    <tr>\n",
       "      <th>200</th>\n",
       "      <td>-1</td>\n",
       "      <td>95</td>\n",
       "      <td>volvo</td>\n",
       "      <td>gas</td>\n",
       "      <td>turbo</td>\n",
       "      <td>four</td>\n",
       "      <td>sedan</td>\n",
       "      <td>rwd</td>\n",
       "      <td>front</td>\n",
       "      <td>109.1</td>\n",
       "      <td>...</td>\n",
       "      <td>141</td>\n",
       "      <td>mpfi</td>\n",
       "      <td>3.78</td>\n",
       "      <td>3.15</td>\n",
       "      <td>9.5</td>\n",
       "      <td>114</td>\n",
       "      <td>5400</td>\n",
       "      <td>19</td>\n",
       "      <td>25</td>\n",
       "      <td>22625</td>\n",
       "    </tr>\n",
       "  </tbody>\n",
       "</table>\n",
       "<p>201 rows × 26 columns</p>\n",
       "</div>"
      ],
      "text/plain": [
       "     symboling normalized-losses         make fuel-type aspiration  \\\n",
       "0            3                 ?  alfa-romero       gas        std   \n",
       "1            3                 ?  alfa-romero       gas        std   \n",
       "2            1                 ?  alfa-romero       gas        std   \n",
       "3            2               164         audi       gas        std   \n",
       "4            2               164         audi       gas        std   \n",
       "..         ...               ...          ...       ...        ...   \n",
       "196         -1                95        volvo       gas        std   \n",
       "197         -1                95        volvo       gas      turbo   \n",
       "198         -1                95        volvo       gas        std   \n",
       "199         -1                95        volvo    diesel      turbo   \n",
       "200         -1                95        volvo       gas      turbo   \n",
       "\n",
       "    num-of-doors   body-style drive-wheels engine-location  wheel-base  ...  \\\n",
       "0            two  convertible          rwd           front        88.6  ...   \n",
       "1            two  convertible          rwd           front        88.6  ...   \n",
       "2            two    hatchback          rwd           front        94.5  ...   \n",
       "3           four        sedan          fwd           front        99.8  ...   \n",
       "4           four        sedan          4wd           front        99.4  ...   \n",
       "..           ...          ...          ...             ...         ...  ...   \n",
       "196         four        sedan          rwd           front       109.1  ...   \n",
       "197         four        sedan          rwd           front       109.1  ...   \n",
       "198         four        sedan          rwd           front       109.1  ...   \n",
       "199         four        sedan          rwd           front       109.1  ...   \n",
       "200         four        sedan          rwd           front       109.1  ...   \n",
       "\n",
       "     engine-size  fuel-system  bore  stroke compression-ratio horsepower  \\\n",
       "0            130         mpfi  3.47    2.68               9.0        111   \n",
       "1            130         mpfi  3.47    2.68               9.0        111   \n",
       "2            152         mpfi  2.68    3.47               9.0        154   \n",
       "3            109         mpfi  3.19     3.4              10.0        102   \n",
       "4            136         mpfi  3.19     3.4               8.0        115   \n",
       "..           ...          ...   ...     ...               ...        ...   \n",
       "196          141         mpfi  3.78    3.15               9.5        114   \n",
       "197          141         mpfi  3.78    3.15               8.7        160   \n",
       "198          173         mpfi  3.58    2.87               8.8        134   \n",
       "199          145          idi  3.01     3.4              23.0        106   \n",
       "200          141         mpfi  3.78    3.15               9.5        114   \n",
       "\n",
       "     peak-rpm city-mpg highway-mpg  price  \n",
       "0        5000       21          27  13495  \n",
       "1        5000       21          27  16500  \n",
       "2        5000       19          26  16500  \n",
       "3        5500       24          30  13950  \n",
       "4        5500       18          22  17450  \n",
       "..        ...      ...         ...    ...  \n",
       "196      5400       23          28  16845  \n",
       "197      5300       19          25  19045  \n",
       "198      5500       18          23  21485  \n",
       "199      4800       26          27  22470  \n",
       "200      5400       19          25  22625  \n",
       "\n",
       "[201 rows x 26 columns]"
      ]
     },
     "execution_count": 20,
     "metadata": {},
     "output_type": "execute_result"
    }
   ],
   "source": [
    "# Load data\n",
    "df = pd.read_csv('Automobile_data.csv')\n",
    "df"
   ]
  },
  {
   "cell_type": "code",
   "execution_count": 21,
   "metadata": {},
   "outputs": [
    {
     "data": {
      "image/png": "[encoded data removed]",
      "text/plain": [
       "<Figure size 432x288 with 1 Axes>"
      ]
     },
     "metadata": {
      "needs_background": "light"
     },
     "output_type": "display_data"
    }
   ],
   "source": [
    "# Plot price vs engine-size\n",
    "plt.scatter(df['engine-size'], df['price'])\n",
    "plt.xlabel('Engine Size')\n",
    "plt.ylabel('Price')\n",
    "plt.show()"
   ]
  },
  {
   "cell_type": "markdown",
   "metadata": {},
   "source": [
    "**Ordinary Least Square**\n",
    "\n",
    "Kita dapat membuat **garis** yang merepresentasikan data ini dengan *Linear Regression**."
   ]
  },
  {
   "cell_type": "markdown",
   "metadata": {},
   "source": [
    "$Y = \\beta_{0} + \\beta_{1}X$"
   ]
  },
  {
   "cell_type": "markdown",
   "metadata": {},
   "source": [
    "Dengan"
   ]
  },
  {
   "cell_type": "markdown",
   "metadata": {},
   "source": [
    "$\\beta_{0} = \\overline{y} - \\beta_{1} \\overline{x}$"
   ]
  },
  {
   "cell_type": "markdown",
   "metadata": {},
   "source": [
    "$\\beta_{1} = \\frac{\\sum_{i=1}^{N} (x_{i} - \\overline{x})(y_{i} - \\overline{y})}{\\sum_{i=1}^{N} (x_{i} - \\overline{x})^{2}}$"
   ]
  },
  {
   "cell_type": "markdown",
   "metadata": {},
   "source": [
    "- $Y$ adalah respon\n",
    "- $X$ adalah independen variabel\n",
    "- $\\beta_{0}$ adalah intercept di $Y$\n",
    "- $\\beta_{1}$ adalah slope atau gradient"
   ]
  },
  {
   "cell_type": "code",
   "execution_count": 22,
   "metadata": {},
   "outputs": [],
   "source": [
    "# Define X dan Y\n",
    "X = df['engine-size']\n",
    "Y = df['price']"
   ]
  },
  {
   "cell_type": "code",
   "execution_count": 23,
   "metadata": {},
   "outputs": [
    {
     "name": "stdout",
     "output_type": "stream",
     "text": [
      "126.87562189054727\n",
      "13207.129353233831\n"
     ]
    }
   ],
   "source": [
    "# Cari mean\n",
    "mean_X = np.mean(X)\n",
    "mean_Y = np.mean(Y)\n",
    "\n",
    "print(mean_X)\n",
    "print(mean_Y)"
   ]
  },
  {
   "cell_type": "code",
   "execution_count": 24,
   "metadata": {},
   "outputs": [
    {
     "name": "stdout",
     "output_type": "stream",
     "text": [
      "166.8600156914162\n"
     ]
    }
   ],
   "source": [
    "# Cari Beta_1\n",
    "penyebut = 0\n",
    "pembilang = 0\n",
    "\n",
    "for item_x, item_y in zip(X, Y):\n",
    "    penyebut = penyebut + (item_x - mean_X)**2\n",
    "    pembilang = pembilang + (item_x - mean_X)*(item_y - mean_Y)\n",
    "    \n",
    "beta_1 = pembilang/penyebut\n",
    "print(beta_1)"
   ]
  },
  {
   "cell_type": "code",
   "execution_count": 25,
   "metadata": {},
   "outputs": [
    {
     "name": "stdout",
     "output_type": "stream",
     "text": [
      "-7963.338906281075\n"
     ]
    }
   ],
   "source": [
    "# Cari beta_0\n",
    "beta_0 = mean_Y - beta_1*mean_X\n",
    "print(beta_0)"
   ]
  },
  {
   "cell_type": "code",
   "execution_count": 26,
   "metadata": {},
   "outputs": [],
   "source": [
    "# Buat fungsi linear menggunakan def\n",
    "def linear_func(x, beta_0, beta_1):\n",
    "    y = beta_0 + beta_1*x\n",
    "    \n",
    "    return y"
   ]
  },
  {
   "cell_type": "code",
   "execution_count": 27,
   "metadata": {},
   "outputs": [
    {
     "name": "stdout",
     "output_type": "stream",
     "text": [
      "32083.064859658814\n",
      "38757.465487315465\n"
     ]
    }
   ],
   "source": [
    "print(linear_func(240, beta_0, beta_1))\n",
    "print(linear_func(280, beta_0, beta_1))"
   ]
  },
  {
   "cell_type": "code",
   "execution_count": 28,
   "metadata": {},
   "outputs": [
    {
     "name": "stdout",
     "output_type": "stream",
     "text": [
      "min = (61, 2215.122050895314)\n",
      "max = (326, 46433.02620912061)\n"
     ]
    }
   ],
   "source": [
    "min_X = np.min(X)\n",
    "max_X = np.max(X)\n",
    "\n",
    "pred_min_X = linear_func(min_X, beta_0, beta_1)\n",
    "pred_max_X = linear_func(max_X, beta_0, beta_1)\n",
    "\n",
    "print('min =', (min_X, pred_min_X))\n",
    "print('max =', (max_X, pred_max_X))"
   ]
  },
  {
   "cell_type": "code",
   "execution_count": 29,
   "metadata": {},
   "outputs": [
    {
     "data": {
      "image/png": "[encoded data removed]",
      "text/plain": [
       "<Figure size 432x288 with 1 Axes>"
      ]
     },
     "metadata": {
      "needs_background": "light"
     },
     "output_type": "display_data"
    }
   ],
   "source": [
    "# Plot\n",
    "plt.plot([min_X, max_X], [pred_min_X, pred_max_X], '--r')\n",
    "plt.scatter(df['engine-size'], df['price'])\n",
    "plt.xlabel('Engine Size')\n",
    "plt.ylabel('Price')\n",
    "plt.show()"
   ]
  }
 ],
 "metadata": {
  "kernelspec": {
   "display_name": "Python 3",
   "language": "python",
   "name": "python3"
  },
  "language_info": {
   "codemirror_mode": {
    "name": "ipython",
    "version": 3
   },
   "file_extension": ".py",
   "mimetype": "text/x-python",
   "name": "python",
   "nbconvert_exporter": "python",
   "pygments_lexer": "ipython3",
   "version": "3.7.6"
  }
 },
 "nbformat": 4,
 "nbformat_minor": 4
}
